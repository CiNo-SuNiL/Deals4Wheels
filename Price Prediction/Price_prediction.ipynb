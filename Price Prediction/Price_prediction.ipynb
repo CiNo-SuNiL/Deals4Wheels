{
  "cells": [
    {
      "cell_type": "code",
      "execution_count": 67,
      "metadata": {
        "id": "i39Cuu6D5cui"
      },
      "outputs": [],
      "source": [
        "import datetime\n",
        "\n",
        "import numpy as np\n",
        "import pandas as pd\n",
        "\n",
        "import matplotlib.pyplot as plt\n",
        "import seaborn as sns\n",
        "%matplotlib inline\n",
        "\n",
        "from sklearn.model_selection import train_test_split\n",
        "from sklearn.preprocessing import StandardScaler\n",
        "from sklearn.metrics import r2_score"
      ]
    },
    {
      "cell_type": "code",
      "execution_count": 68,
      "metadata": {
        "colab": {
          "base_uri": "https://localhost:8080/",
          "height": 335
        },
        "id": "p0PKUdnV5cuk",
        "outputId": "d50dd662-c55f-4c49-8b24-ae2550775eea"
      },
      "outputs": [
        {
          "data": {
            "text/html": [
              "<div>\n",
              "<style scoped>\n",
              "    .dataframe tbody tr th:only-of-type {\n",
              "        vertical-align: middle;\n",
              "    }\n",
              "\n",
              "    .dataframe tbody tr th {\n",
              "        vertical-align: top;\n",
              "    }\n",
              "\n",
              "    .dataframe thead th {\n",
              "        text-align: right;\n",
              "    }\n",
              "</style>\n",
              "<table border=\"1\" class=\"dataframe\">\n",
              "  <thead>\n",
              "    <tr style=\"text-align: right;\">\n",
              "      <th></th>\n",
              "      <th>Unnamed: 0</th>\n",
              "      <th>Name</th>\n",
              "      <th>Location</th>\n",
              "      <th>Year</th>\n",
              "      <th>Kilometers_Driven</th>\n",
              "      <th>Fuel_Type</th>\n",
              "      <th>Transmission</th>\n",
              "      <th>Owner_Type</th>\n",
              "      <th>Mileage</th>\n",
              "      <th>Engine</th>\n",
              "      <th>Power</th>\n",
              "      <th>Seats</th>\n",
              "      <th>New_Price</th>\n",
              "      <th>Price</th>\n",
              "    </tr>\n",
              "  </thead>\n",
              "  <tbody>\n",
              "    <tr>\n",
              "      <th>0</th>\n",
              "      <td>0</td>\n",
              "      <td>Maruti Wagon R LXI CNG</td>\n",
              "      <td>Mumbai</td>\n",
              "      <td>2010</td>\n",
              "      <td>72000</td>\n",
              "      <td>CNG</td>\n",
              "      <td>Manual</td>\n",
              "      <td>First</td>\n",
              "      <td>26.6 km/kg</td>\n",
              "      <td>998 CC</td>\n",
              "      <td>58.16 bhp</td>\n",
              "      <td>5.0</td>\n",
              "      <td>NaN</td>\n",
              "      <td>1.75</td>\n",
              "    </tr>\n",
              "    <tr>\n",
              "      <th>1</th>\n",
              "      <td>1</td>\n",
              "      <td>Hyundai Creta 1.6 CRDi SX Option</td>\n",
              "      <td>Pune</td>\n",
              "      <td>2015</td>\n",
              "      <td>41000</td>\n",
              "      <td>Diesel</td>\n",
              "      <td>Manual</td>\n",
              "      <td>First</td>\n",
              "      <td>19.67 kmpl</td>\n",
              "      <td>1582 CC</td>\n",
              "      <td>126.2 bhp</td>\n",
              "      <td>5.0</td>\n",
              "      <td>NaN</td>\n",
              "      <td>12.50</td>\n",
              "    </tr>\n",
              "    <tr>\n",
              "      <th>2</th>\n",
              "      <td>2</td>\n",
              "      <td>Honda Jazz V</td>\n",
              "      <td>Chennai</td>\n",
              "      <td>2011</td>\n",
              "      <td>46000</td>\n",
              "      <td>Petrol</td>\n",
              "      <td>Manual</td>\n",
              "      <td>First</td>\n",
              "      <td>18.2 kmpl</td>\n",
              "      <td>1199 CC</td>\n",
              "      <td>88.7 bhp</td>\n",
              "      <td>5.0</td>\n",
              "      <td>8.61 Lakh</td>\n",
              "      <td>4.50</td>\n",
              "    </tr>\n",
              "    <tr>\n",
              "      <th>3</th>\n",
              "      <td>3</td>\n",
              "      <td>Maruti Ertiga VDI</td>\n",
              "      <td>Chennai</td>\n",
              "      <td>2012</td>\n",
              "      <td>87000</td>\n",
              "      <td>Diesel</td>\n",
              "      <td>Manual</td>\n",
              "      <td>First</td>\n",
              "      <td>20.77 kmpl</td>\n",
              "      <td>1248 CC</td>\n",
              "      <td>88.76 bhp</td>\n",
              "      <td>7.0</td>\n",
              "      <td>NaN</td>\n",
              "      <td>6.00</td>\n",
              "    </tr>\n",
              "    <tr>\n",
              "      <th>4</th>\n",
              "      <td>4</td>\n",
              "      <td>Audi A4 New 2.0 TDI Multitronic</td>\n",
              "      <td>Coimbatore</td>\n",
              "      <td>2013</td>\n",
              "      <td>40670</td>\n",
              "      <td>Diesel</td>\n",
              "      <td>Automatic</td>\n",
              "      <td>Second</td>\n",
              "      <td>15.2 kmpl</td>\n",
              "      <td>1968 CC</td>\n",
              "      <td>140.8 bhp</td>\n",
              "      <td>5.0</td>\n",
              "      <td>NaN</td>\n",
              "      <td>17.74</td>\n",
              "    </tr>\n",
              "  </tbody>\n",
              "</table>\n",
              "</div>"
            ],
            "text/plain": [
              "   Unnamed: 0                              Name    Location  Year  \\\n",
              "0           0            Maruti Wagon R LXI CNG      Mumbai  2010   \n",
              "1           1  Hyundai Creta 1.6 CRDi SX Option        Pune  2015   \n",
              "2           2                      Honda Jazz V     Chennai  2011   \n",
              "3           3                 Maruti Ertiga VDI     Chennai  2012   \n",
              "4           4   Audi A4 New 2.0 TDI Multitronic  Coimbatore  2013   \n",
              "\n",
              "   Kilometers_Driven Fuel_Type Transmission Owner_Type     Mileage   Engine  \\\n",
              "0              72000       CNG       Manual      First  26.6 km/kg   998 CC   \n",
              "1              41000    Diesel       Manual      First  19.67 kmpl  1582 CC   \n",
              "2              46000    Petrol       Manual      First   18.2 kmpl  1199 CC   \n",
              "3              87000    Diesel       Manual      First  20.77 kmpl  1248 CC   \n",
              "4              40670    Diesel    Automatic     Second   15.2 kmpl  1968 CC   \n",
              "\n",
              "       Power  Seats  New_Price  Price  \n",
              "0  58.16 bhp    5.0        NaN   1.75  \n",
              "1  126.2 bhp    5.0        NaN  12.50  \n",
              "2   88.7 bhp    5.0  8.61 Lakh   4.50  \n",
              "3  88.76 bhp    7.0        NaN   6.00  \n",
              "4  140.8 bhp    5.0        NaN  17.74  "
            ]
          },
          "execution_count": 68,
          "metadata": {},
          "output_type": "execute_result"
        }
      ],
      "source": [
        "dataset = pd.read_csv(\"dataset.csv\")\n",
        "dataset.head(5)"
      ]
    },
    {
      "cell_type": "code",
      "execution_count": 69,
      "metadata": {
        "id": "d24RROxs5cul"
      },
      "outputs": [],
      "source": [
        "X_train, X_test, y_train, y_test = train_test_split(dataset.iloc[:, :-1],\n",
        "                                                    dataset.iloc[:, -1],\n",
        "                                                    test_size = 0.3,\n",
        "                                                    random_state = 42)"
      ]
    },
    {
      "cell_type": "code",
      "execution_count": 70,
      "metadata": {
        "id": "3LxzqSvD5cul"
      },
      "outputs": [
        {
          "name": "stdout",
          "output_type": "stream",
          "text": [
            "<class 'pandas.core.frame.DataFrame'>\n",
            "Int64Index: 4213 entries, 4201 to 860\n",
            "Data columns (total 13 columns):\n",
            " #   Column             Non-Null Count  Dtype  \n",
            "---  ------             --------------  -----  \n",
            " 0   Unnamed: 0         4213 non-null   int64  \n",
            " 1   Name               4213 non-null   object \n",
            " 2   Location           4213 non-null   object \n",
            " 3   Year               4213 non-null   int64  \n",
            " 4   Kilometers_Driven  4213 non-null   int64  \n",
            " 5   Fuel_Type          4213 non-null   object \n",
            " 6   Transmission       4213 non-null   object \n",
            " 7   Owner_Type         4213 non-null   object \n",
            " 8   Mileage            4212 non-null   object \n",
            " 9   Engine             4189 non-null   object \n",
            " 10  Power              4189 non-null   object \n",
            " 11  Seats              4185 non-null   float64\n",
            " 12  New_Price          580 non-null    object \n",
            "dtypes: float64(1), int64(3), object(9)\n",
            "memory usage: 460.8+ KB\n"
          ]
        }
      ],
      "source": [
        "X_train.info()"
      ]
    },
    {
      "cell_type": "code",
      "execution_count": 71,
      "metadata": {
        "id": "8ImrEwQZ5cul"
      },
      "outputs": [
        {
          "data": {
            "text/plain": [
              "(4213, 13)"
            ]
          },
          "execution_count": 71,
          "metadata": {},
          "output_type": "execute_result"
        }
      ],
      "source": [
        "np.shape(X_train)"
      ]
    },
    {
      "cell_type": "code",
      "execution_count": 72,
      "metadata": {
        "id": "XHrk3TuJ5cul"
      },
      "outputs": [],
      "source": [
        "X_train = X_train.iloc[:, 1:]\n",
        "X_test = X_test.iloc[:, 1:]"
      ]
    },
    {
      "cell_type": "code",
      "execution_count": 73,
      "metadata": {
        "id": "-9EF4I0u5cum"
      },
      "outputs": [
        {
          "data": {
            "text/plain": [
              "Mahindra XUV500 W8 2WD                35\n",
              "Maruti Swift VDI                      31\n",
              "Maruti Ritz VDi                       26\n",
              "Hyundai i10 Sportz                    25\n",
              "Maruti Swift Dzire VDI                24\n",
              "                                      ..\n",
              "Skoda Laura L and K AT                 1\n",
              "Honda Amaze S Diesel                   1\n",
              "Nissan Micra XE                        1\n",
              "Renault KWID Climber 1.0 MT            1\n",
              "Ford Endeavour 2.2 Titanium AT 4X2     1\n",
              "Name: Name, Length: 1592, dtype: int64"
            ]
          },
          "execution_count": 73,
          "metadata": {},
          "output_type": "execute_result"
        }
      ],
      "source": [
        "X_train[\"Name\"].value_counts()"
      ]
    },
    {
      "cell_type": "code",
      "execution_count": 74,
      "metadata": {
        "id": "E-lGbH-f5cum"
      },
      "outputs": [],
      "source": [
        "make_train = X_train[\"Name\"].str.split(\" \", expand = True)\n",
        "make_test = X_test[\"Name\"].str.split(\" \", expand = True)"
      ]
    },
    {
      "cell_type": "code",
      "execution_count": 75,
      "metadata": {
        "id": "ogBbAzHe5cum"
      },
      "outputs": [],
      "source": [
        "X_train[\"Manufacturer\"] = make_train[0]\n",
        "X_test[\"Manufacturer\"] = make_test[0]"
      ]
    },
    {
      "cell_type": "code",
      "execution_count": 76,
      "metadata": {
        "id": "S_ERBr2o5cum"
      },
      "outputs": [
        {
          "data": {
            "text/plain": [
              "Text(0, 0.5, 'Count of cars')"
            ]
          },
          "execution_count": 76,
          "metadata": {},
          "output_type": "execute_result"
        },
        {
          "data": {
            "image/png": "[encoded data removed]",
            "text/plain": [
              "<Figure size 1200x800 with 1 Axes>"
            ]
          },
          "metadata": {},
          "output_type": "display_data"
        }
      ],
      "source": [
        "plt.figure(figsize = (12, 8))\n",
        "plot = sns.countplot(x = 'Transmission', data = X_train)\n",
        "plt.xticks(rotation = 90)\n",
        "for p in plot.patches:\n",
        "    plot.annotate(p.get_height(),\n",
        "                        (p.get_x() + p.get_width() / 2.0,\n",
        "                         p.get_height()),\n",
        "                        ha = 'center',\n",
        "                        va = 'center',\n",
        "                        xytext = (0, 5),\n",
        "                        textcoords = 'offset points')\n",
        "\n",
        "plt.title(\"Count of cars based on manufacturers\")\n",
        "plt.xlabel(\"Manufacturer\")\n",
        "plt.ylabel(\"Count of cars\")"
      ]
    },
    {
      "cell_type": "code",
      "execution_count": 77,
      "metadata": {
        "id": "6g_FXUtC5cun"
      },
      "outputs": [],
      "source": [
        "X_train.drop(\"Name\", axis = 1, inplace = True)\n",
        "X_test.drop(\"Name\", axis = 1, inplace = True)"
      ]
    },
    {
      "cell_type": "code",
      "execution_count": 78,
      "metadata": {
        "id": "dCpD4Oxd5cun"
      },
      "outputs": [],
      "source": [
        "X_train.drop(\"Location\", axis = 1, inplace = True)\n",
        "X_test.drop(\"Location\", axis = 1, inplace = True)"
      ]
    },
    {
      "cell_type": "code",
      "execution_count": 79,
      "metadata": {
        "id": "juDiq_2N5cun"
      },
      "outputs": [],
      "source": [
        "curr_time = datetime.datetime.now()\n",
        "X_train['Year'] = X_train['Year'].apply(lambda x : curr_time.year - x)\n",
        "X_test['Year'] = X_test['Year'].apply(lambda x : curr_time.year - x)"
      ]
    },
    {
      "cell_type": "code",
      "execution_count": 80,
      "metadata": {
        "id": "vgfR68Cr5cun"
      },
      "outputs": [
        {
          "data": {
            "text/plain": [
              "4201     77000\n",
              "4383     19947\n",
              "1779     70963\n",
              "4020    115195\n",
              "3248     58752\n",
              "         ...  \n",
              "3772     27000\n",
              "5191      9000\n",
              "5226    140000\n",
              "5390     76414\n",
              "860      98000\n",
              "Name: Kilometers_Driven, Length: 4213, dtype: int64"
            ]
          },
          "execution_count": 80,
          "metadata": {},
          "output_type": "execute_result"
        }
      ],
      "source": [
        "X_train[\"Kilometers_Driven\"]"
      ]
    },
    {
      "cell_type": "code",
      "execution_count": 81,
      "metadata": {
        "id": "9OgsVDbd5cuo"
      },
      "outputs": [],
      "source": [
        "mileage_train = X_train[\"Mileage\"].str.split(\" \", expand = True)\n",
        "mileage_test = X_test[\"Mileage\"].str.split(\" \", expand = True)\n",
        "\n",
        "X_train[\"Mileage\"] = pd.to_numeric(mileage_train[0], errors = 'coerce')\n",
        "X_test[\"Mileage\"] = pd.to_numeric(mileage_test[0], errors = 'coerce')"
      ]
    },
    {
      "cell_type": "code",
      "execution_count": 82,
      "metadata": {
        "id": "NtRIrhyU5cuo"
      },
      "outputs": [
        {
          "name": "stdout",
          "output_type": "stream",
          "text": [
            "1\n",
            "1\n"
          ]
        }
      ],
      "source": [
        "print(sum(X_train[\"Mileage\"].isnull()))\n",
        "print(sum(X_test[\"Mileage\"].isnull()))"
      ]
    },
    {
      "cell_type": "code",
      "execution_count": 83,
      "metadata": {
        "id": "7d0jRwQi5cuo"
      },
      "outputs": [],
      "source": [
        "X_train[\"Mileage\"].fillna(X_train[\"Mileage\"].astype(\"float64\").mean(), inplace = True)\n",
        "X_test[\"Mileage\"].fillna(X_train[\"Mileage\"].astype(\"float64\").mean(), inplace = True)"
      ]
    },
    {
      "cell_type": "code",
      "execution_count": 84,
      "metadata": {
        "id": "BMCkX5XF5cuo"
      },
      "outputs": [],
      "source": [
        "cc_train = X_train[\"Engine\"].str.split(\" \", expand = True)\n",
        "cc_test = X_test[\"Engine\"].str.split(\" \", expand = True)\n",
        "X_train[\"Engine\"] = pd.to_numeric(cc_train[0], errors = 'coerce')\n",
        "X_test[\"Engine\"] = pd.to_numeric(cc_test[0], errors = 'coerce')\n",
        "\n",
        "bhp_train = X_train[\"Power\"].str.split(\" \", expand = True)\n",
        "bhp_test = X_test[\"Power\"].str.split(\" \", expand = True)\n",
        "X_train[\"Power\"] = pd.to_numeric(bhp_train[0], errors = 'coerce')\n",
        "X_test[\"Power\"] = pd.to_numeric(bhp_test[0], errors = 'coerce')"
      ]
    },
    {
      "cell_type": "code",
      "execution_count": 85,
      "metadata": {
        "id": "jEzTrUpN5cuo"
      },
      "outputs": [
        {
          "name": "stdout",
          "output_type": "stream",
          "text": [
            "      Year  Kilometers_Driven Fuel_Type Transmission Owner_Type  Mileage  \\\n",
            "4201    13              77000    Diesel       Manual      First    22.07   \n",
            "4383     8              19947    Petrol       Manual      First    20.36   \n",
            "1779    10              70963    Diesel       Manual      First    15.10   \n",
            "4020    11             115195    Diesel       Manual      First    25.20   \n",
            "3248    13              58752    Petrol       Manual      First    16.47   \n",
            "...    ...                ...       ...          ...        ...      ...   \n",
            "3772     9              27000    Petrol    Automatic      First    17.97   \n",
            "5191     5               9000    Diesel    Automatic      First    12.62   \n",
            "5226    11             140000    Diesel       Manual     Second    15.10   \n",
            "5390    10              76414    Diesel       Manual      First    25.80   \n",
            "860     13              98000    Diesel       Manual     Second    12.80   \n",
            "\n",
            "      Engine  Power  Seats New_Price Manufacturer  \n",
            "4201  1199.0   73.9    5.0       NaN   Volkswagen  \n",
            "4383  1197.0   78.9    5.0       NaN      Hyundai  \n",
            "1779  2179.0  140.0    7.0       NaN     Mahindra  \n",
            "4020  1248.0   74.0    5.0       NaN       Maruti  \n",
            "3248  1198.0   73.9    5.0       NaN   Volkswagen  \n",
            "...      ...    ...    ...       ...          ...  \n",
            "3772  1498.0   99.6    5.0       NaN       Nissan  \n",
            "5191  2198.0  158.0    7.0       NaN         Ford  \n",
            "5226  2179.0  140.0    7.0       NaN     Mahindra  \n",
            "5390  1498.0   98.6    5.0       NaN        Honda  \n",
            "860   2494.0  102.0    8.0       NaN       Toyota  \n",
            "\n",
            "[4213 rows x 11 columns]\n"
          ]
        }
      ],
      "source": [
        "X_train[\"Engine\"].fillna(X_train[\"Engine\"].astype(\"float64\").mean(), inplace = True)\n",
        "X_test[\"Engine\"].fillna(X_train[\"Engine\"].astype(\"float64\").mean(), inplace = True)\n",
        "\n",
        "X_train[\"Power\"].fillna(X_train[\"Power\"].astype(\"float64\").mean(), inplace = True)\n",
        "X_test[\"Power\"].fillna(X_train[\"Power\"].astype(\"float64\").mean(), inplace = True)\n",
        "\n",
        "X_train[\"Seats\"].fillna(X_train[\"Seats\"].astype(\"float64\").mean(), inplace = True)\n",
        "X_test[\"Seats\"].fillna(X_train[\"Seats\"].astype(\"float64\").mean(), inplace = True)\n",
        "column_names = X_train.columns\n",
        "print(X_train)"
      ]
    },
    {
      "cell_type": "code",
      "execution_count": 86,
      "metadata": {
        "id": "SJt5EtyV5cuv"
      },
      "outputs": [
        {
          "name": "stdout",
          "output_type": "stream",
          "text": [
            "      Year  Kilometers_Driven Fuel_Type Transmission Owner_Type  Mileage  \\\n",
            "4201    13              77000    Diesel       Manual      First    22.07   \n",
            "4383     8              19947    Petrol       Manual      First    20.36   \n",
            "1779    10              70963    Diesel       Manual      First    15.10   \n",
            "4020    11             115195    Diesel       Manual      First    25.20   \n",
            "3248    13              58752    Petrol       Manual      First    16.47   \n",
            "...    ...                ...       ...          ...        ...      ...   \n",
            "3772     9              27000    Petrol    Automatic      First    17.97   \n",
            "5191     5               9000    Diesel    Automatic      First    12.62   \n",
            "5226    11             140000    Diesel       Manual     Second    15.10   \n",
            "5390    10              76414    Diesel       Manual      First    25.80   \n",
            "860     13              98000    Diesel       Manual     Second    12.80   \n",
            "\n",
            "      Engine  Power  Seats Manufacturer  \n",
            "4201  1199.0   73.9    5.0   Volkswagen  \n",
            "4383  1197.0   78.9    5.0      Hyundai  \n",
            "1779  2179.0  140.0    7.0     Mahindra  \n",
            "4020  1248.0   74.0    5.0       Maruti  \n",
            "3248  1198.0   73.9    5.0   Volkswagen  \n",
            "...      ...    ...    ...          ...  \n",
            "3772  1498.0   99.6    5.0       Nissan  \n",
            "5191  2198.0  158.0    7.0         Ford  \n",
            "5226  2179.0  140.0    7.0     Mahindra  \n",
            "5390  1498.0   98.6    5.0        Honda  \n",
            "860   2494.0  102.0    8.0       Toyota  \n",
            "\n",
            "[4213 rows x 10 columns]\n"
          ]
        }
      ],
      "source": [
        "X_train.drop([\"New_Price\"], axis = 1, inplace = True)\n",
        "X_test.drop([\"New_Price\"], axis = 1, inplace = True)\n",
        "np.shape(X_train)\n",
        "print(X_train)"
      ]
    },
    {
      "cell_type": "code",
      "execution_count": 87,
      "metadata": {
        "id": "HW8KwergHyr8"
      },
      "outputs": [
        {
          "name": "stdout",
          "output_type": "stream",
          "text": [
            "Year                         13\n",
            "Kilometers_Driven         77000\n",
            "Fuel_Type                Diesel\n",
            "Transmission             Manual\n",
            "Owner_Type                First\n",
            "Mileage                   22.07\n",
            "Engine                   1199.0\n",
            "Power                      73.9\n",
            "Seats                       5.0\n",
            "Manufacturer         Volkswagen\n",
            "Name: 4201, dtype: object\n"
          ]
        }
      ],
      "source": [
        "print(X_train.iloc[0])"
      ]
    },
    {
      "cell_type": "code",
      "execution_count": 88,
      "metadata": {
        "id": "JPtJjVGO5cuw"
      },
      "outputs": [],
      "source": [
        "X_train = pd.get_dummies(X_train,\n",
        "                         columns = [\"Manufacturer\", \"Fuel_Type\", \"Transmission\", \"Owner_Type\"],\n",
        "                         drop_first = True)"
      ]
    },
    {
      "cell_type": "code",
      "execution_count": 89,
      "metadata": {
        "id": "P6IdsTW05cuw"
      },
      "outputs": [
        {
          "name": "stdout",
          "output_type": "stream",
          "text": [
            "      Year  Kilometers_Driven  Mileage  Engine  Power  Seats  \\\n",
            "4201    13              77000    22.07  1199.0   73.9    5.0   \n",
            "4383     8              19947    20.36  1197.0   78.9    5.0   \n",
            "1779    10              70963    15.10  2179.0  140.0    7.0   \n",
            "4020    11             115195    25.20  1248.0   74.0    5.0   \n",
            "3248    13              58752    16.47  1198.0   73.9    5.0   \n",
            "...    ...                ...      ...     ...    ...    ...   \n",
            "3772     9              27000    17.97  1498.0   99.6    5.0   \n",
            "5191     5               9000    12.62  2198.0  158.0    7.0   \n",
            "5226    11             140000    15.10  2179.0  140.0    7.0   \n",
            "5390    10              76414    25.80  1498.0   98.6    5.0   \n",
            "860     13              98000    12.80  2494.0  102.0    8.0   \n",
            "\n",
            "      Manufacturer_BMW  Manufacturer_Chevrolet  Manufacturer_Datsun  \\\n",
            "4201                 0                       0                    0   \n",
            "4383                 0                       0                    0   \n",
            "1779                 0                       0                    0   \n",
            "4020                 0                       0                    0   \n",
            "3248                 0                       0                    0   \n",
            "...                ...                     ...                  ...   \n",
            "3772                 0                       0                    0   \n",
            "5191                 0                       0                    0   \n",
            "5226                 0                       0                    0   \n",
            "5390                 0                       0                    0   \n",
            "860                  0                       0                    0   \n",
            "\n",
            "      Manufacturer_Fiat  ...  Manufacturer_Volkswagen  Manufacturer_Volvo  \\\n",
            "4201                  0  ...                        1                   0   \n",
            "4383                  0  ...                        0                   0   \n",
            "1779                  0  ...                        0                   0   \n",
            "4020                  0  ...                        0                   0   \n",
            "3248                  0  ...                        1                   0   \n",
            "...                 ...  ...                      ...                 ...   \n",
            "3772                  0  ...                        0                   0   \n",
            "5191                  0  ...                        0                   0   \n",
            "5226                  0  ...                        0                   0   \n",
            "5390                  0  ...                        0                   0   \n",
            "860                   0  ...                        0                   0   \n",
            "\n",
            "      Fuel_Type_Diesel  Fuel_Type_Electric  Fuel_Type_LPG  Fuel_Type_Petrol  \\\n",
            "4201                 1                   0              0                 0   \n",
            "4383                 0                   0              0                 1   \n",
            "1779                 1                   0              0                 0   \n",
            "4020                 1                   0              0                 0   \n",
            "3248                 0                   0              0                 1   \n",
            "...                ...                 ...            ...               ...   \n",
            "3772                 0                   0              0                 1   \n",
            "5191                 1                   0              0                 0   \n",
            "5226                 1                   0              0                 0   \n",
            "5390                 1                   0              0                 0   \n",
            "860                  1                   0              0                 0   \n",
            "\n",
            "      Transmission_Manual  Owner_Type_Fourth & Above  Owner_Type_Second  \\\n",
            "4201                    1                          0                  0   \n",
            "4383                    1                          0                  0   \n",
            "1779                    1                          0                  0   \n",
            "4020                    1                          0                  0   \n",
            "3248                    1                          0                  0   \n",
            "...                   ...                        ...                ...   \n",
            "3772                    0                          0                  0   \n",
            "5191                    0                          0                  0   \n",
            "5226                    1                          0                  1   \n",
            "5390                    1                          0                  0   \n",
            "860                     1                          0                  1   \n",
            "\n",
            "      Owner_Type_Third  \n",
            "4201                 0  \n",
            "4383                 0  \n",
            "1779                 0  \n",
            "4020                 0  \n",
            "3248                 0  \n",
            "...                ...  \n",
            "3772                 0  \n",
            "5191                 0  \n",
            "5226                 0  \n",
            "5390                 0  \n",
            "860                  0  \n",
            "\n",
            "[4213 rows x 41 columns]\n"
          ]
        }
      ],
      "source": [
        "X_test = pd.get_dummies(X_test,\n",
        "                         columns = [\"Manufacturer\", \"Fuel_Type\", \"Transmission\", \"Owner_Type\"],\n",
        "                         drop_first = True)\n",
        "np.shape(X_train)\n",
        "print(X_train)"
      ]
    },
    {
      "cell_type": "markdown",
      "metadata": {
        "id": "rpd_gN2m5cuw"
      },
      "source": [
        "It might be possible that the dummy column creation would be different in test and train data, thus, I'd fill in all missing columns with zeros."
      ]
    },
    {
      "cell_type": "code",
      "execution_count": 90,
      "metadata": {
        "id": "wDTAxFC4IY05"
      },
      "outputs": [
        {
          "name": "stdout",
          "output_type": "stream",
          "text": [
            "Year                             13.00\n",
            "Kilometers_Driven             77000.00\n",
            "Mileage                          22.07\n",
            "Engine                         1199.00\n",
            "Power                            73.90\n",
            "Seats                             5.00\n",
            "Manufacturer_BMW                  0.00\n",
            "Manufacturer_Chevrolet            0.00\n",
            "Manufacturer_Datsun               0.00\n",
            "Manufacturer_Fiat                 0.00\n",
            "Manufacturer_Force                0.00\n",
            "Manufacturer_Ford                 0.00\n",
            "Manufacturer_Honda                0.00\n",
            "Manufacturer_Hyundai              0.00\n",
            "Manufacturer_ISUZU                0.00\n",
            "Manufacturer_Isuzu                0.00\n",
            "Manufacturer_Jaguar               0.00\n",
            "Manufacturer_Jeep                 0.00\n",
            "Manufacturer_Lamborghini          0.00\n",
            "Manufacturer_Land                 0.00\n",
            "Manufacturer_Mahindra             0.00\n",
            "Manufacturer_Maruti               0.00\n",
            "Manufacturer_Mercedes-Benz        0.00\n",
            "Manufacturer_Mini                 0.00\n",
            "Manufacturer_Mitsubishi           0.00\n",
            "Manufacturer_Nissan               0.00\n",
            "Manufacturer_Porsche              0.00\n",
            "Manufacturer_Renault              0.00\n",
            "Manufacturer_Skoda                0.00\n",
            "Manufacturer_Tata                 0.00\n",
            "Manufacturer_Toyota               0.00\n",
            "Manufacturer_Volkswagen           1.00\n",
            "Manufacturer_Volvo                0.00\n",
            "Fuel_Type_Diesel                  1.00\n",
            "Fuel_Type_Electric                0.00\n",
            "Fuel_Type_LPG                     0.00\n",
            "Fuel_Type_Petrol                  0.00\n",
            "Transmission_Manual               1.00\n",
            "Owner_Type_Fourth & Above         0.00\n",
            "Owner_Type_Second                 0.00\n",
            "Owner_Type_Third                  0.00\n",
            "Name: 4201, dtype: float64\n"
          ]
        }
      ],
      "source": [
        "print(X_train.iloc[0])"
      ]
    },
    {
      "cell_type": "code",
      "execution_count": 91,
      "metadata": {
        "id": "DF4GwrY05cuw"
      },
      "outputs": [
        {
          "name": "stdout",
          "output_type": "stream",
          "text": [
            "Index(['Year', 'Kilometers_Driven', 'Mileage', 'Engine', 'Power', 'Seats',\n",
            "       'Manufacturer_BMW', 'Manufacturer_Chevrolet', 'Manufacturer_Datsun',\n",
            "       'Manufacturer_Fiat', 'Manufacturer_Force', 'Manufacturer_Ford',\n",
            "       'Manufacturer_Honda', 'Manufacturer_Hyundai', 'Manufacturer_ISUZU',\n",
            "       'Manufacturer_Isuzu', 'Manufacturer_Jaguar', 'Manufacturer_Jeep',\n",
            "       'Manufacturer_Lamborghini', 'Manufacturer_Land',\n",
            "       'Manufacturer_Mahindra', 'Manufacturer_Maruti',\n",
            "       'Manufacturer_Mercedes-Benz', 'Manufacturer_Mini',\n",
            "       'Manufacturer_Mitsubishi', 'Manufacturer_Nissan',\n",
            "       'Manufacturer_Porsche', 'Manufacturer_Renault', 'Manufacturer_Skoda',\n",
            "       'Manufacturer_Tata', 'Manufacturer_Toyota', 'Manufacturer_Volkswagen',\n",
            "       'Manufacturer_Volvo', 'Fuel_Type_Diesel', 'Fuel_Type_Electric',\n",
            "       'Fuel_Type_LPG', 'Fuel_Type_Petrol', 'Transmission_Manual',\n",
            "       'Owner_Type_Fourth & Above', 'Owner_Type_Second', 'Owner_Type_Third'],\n",
            "      dtype='object')\n"
          ]
        }
      ],
      "source": [
        "column_names = X_train.columns\n",
        "print(column_names)"
      ]
    },
    {
      "cell_type": "code",
      "execution_count": 92,
      "metadata": {
        "id": "6_zJ6l355cuw"
      },
      "outputs": [
        {
          "data": {
            "text/plain": [
              "(4213, 41)"
            ]
          },
          "execution_count": 92,
          "metadata": {},
          "output_type": "execute_result"
        }
      ],
      "source": [
        "missing_cols = set(X_train.columns) - set(X_test.columns)\n",
        "for col in missing_cols:\n",
        "    X_test[col] = 0\n",
        "X_test = X_test[X_train.columns]\n",
        "np.shape(X_train)"
      ]
    },
    {
      "cell_type": "code",
      "execution_count": 93,
      "metadata": {
        "id": "Kw_Rv4MVI1K6"
      },
      "outputs": [
        {
          "name": "stdout",
          "output_type": "stream",
          "text": [
            "Year                             13.00\n",
            "Kilometers_Driven             77000.00\n",
            "Mileage                          22.07\n",
            "Engine                         1199.00\n",
            "Power                            73.90\n",
            "Seats                             5.00\n",
            "Manufacturer_BMW                  0.00\n",
            "Manufacturer_Chevrolet            0.00\n",
            "Manufacturer_Datsun               0.00\n",
            "Manufacturer_Fiat                 0.00\n",
            "Manufacturer_Force                0.00\n",
            "Manufacturer_Ford                 0.00\n",
            "Manufacturer_Honda                0.00\n",
            "Manufacturer_Hyundai              0.00\n",
            "Manufacturer_ISUZU                0.00\n",
            "Manufacturer_Isuzu                0.00\n",
            "Manufacturer_Jaguar               0.00\n",
            "Manufacturer_Jeep                 0.00\n",
            "Manufacturer_Lamborghini          0.00\n",
            "Manufacturer_Land                 0.00\n",
            "Manufacturer_Mahindra             0.00\n",
            "Manufacturer_Maruti               0.00\n",
            "Manufacturer_Mercedes-Benz        0.00\n",
            "Manufacturer_Mini                 0.00\n",
            "Manufacturer_Mitsubishi           0.00\n",
            "Manufacturer_Nissan               0.00\n",
            "Manufacturer_Porsche              0.00\n",
            "Manufacturer_Renault              0.00\n",
            "Manufacturer_Skoda                0.00\n",
            "Manufacturer_Tata                 0.00\n",
            "Manufacturer_Toyota               0.00\n",
            "Manufacturer_Volkswagen           1.00\n",
            "Manufacturer_Volvo                0.00\n",
            "Fuel_Type_Diesel                  1.00\n",
            "Fuel_Type_Electric                0.00\n",
            "Fuel_Type_LPG                     0.00\n",
            "Fuel_Type_Petrol                  0.00\n",
            "Transmission_Manual               1.00\n",
            "Owner_Type_Fourth & Above         0.00\n",
            "Owner_Type_Second                 0.00\n",
            "Owner_Type_Third                  0.00\n",
            "Name: 4201, dtype: float64\n"
          ]
        }
      ],
      "source": [
        "print(X_train.iloc[0])"
      ]
    },
    {
      "cell_type": "code",
      "execution_count": 94,
      "metadata": {
        "id": "D-oxlysrUooD"
      },
      "outputs": [
        {
          "name": "stdout",
          "output_type": "stream",
          "text": [
            "[10.603607880370282, 57529.23498694517, 18.150555555555552, 1622.5509668178565, 112.99872603736956, 5.27741935483871, 0.043436980773795396, 0.019700925706147638, 0.001661523854735343, 0.004272489912176596, 0.00047472110135295516, 0.05198196059814859, 0.09992879183479705, 0.18561595062900546, 0.00047472110135295516, 0.00023736055067647758, 0.00688345596961785, 0.0026109660574412533, 0.00023736055067647758, 0.009494422027059102, 0.04557322572988369, 0.2008070258723, 0.052456681699501545, 0.004035129361500119, 0.004509850462853074, 0.015428435793971042, 0.0026109660574412533, 0.02254925231426537, 0.029432708283883217, 0.029907429385236172, 0.07002136244956088, 0.05269404225017802, 0.0037977688108236413, 0.5307381913126038, 0.00023736055067647758, 0.0018988844054118206, 0.45786850225492526, 0.7149299786375505, 0.0011868027533823878, 0.15950629005459294, 0.019700925706147638]\n"
          ]
        }
      ],
      "source": [
        "# print(X_train.mean())\n",
        "arr=[]\n",
        "for i in X_train.mean():\n",
        "  arr.append(i)\n",
        "print(arr)\n",
        "# print(X_train.mean())"
      ]
    },
    {
      "cell_type": "code",
      "execution_count": 95,
      "metadata": {
        "id": "1Yc5eqaHJkEB"
      },
      "outputs": [
        {
          "name": "stdout",
          "output_type": "stream",
          "text": [
            "              Year  Kilometers_Driven      Mileage       Engine        Power  \\\n",
            "count  4213.000000        4213.000000  4213.000000  4213.000000  4213.000000   \n",
            "mean     10.603608       57529.234987    18.150556  1622.550967   112.998726   \n",
            "std       3.237586       38099.559922     4.574532   603.014838    53.077600   \n",
            "min       5.000000         600.000000     0.000000    72.000000    34.200000   \n",
            "25%       8.000000       34000.000000    15.100000  1197.000000    78.900000   \n",
            "50%      10.000000       52827.000000    18.200000  1495.000000    98.600000   \n",
            "75%      13.000000       72100.000000    21.100000  1978.000000   138.030000   \n",
            "max      26.000000      775000.000000    33.540000  5461.000000   560.000000   \n",
            "\n",
            "             Seats  Manufacturer_BMW  Manufacturer_Chevrolet  \\\n",
            "count  4213.000000       4213.000000             4213.000000   \n",
            "mean      5.277419          0.043437                0.019701   \n",
            "std       0.802849          0.203863                0.138987   \n",
            "min       0.000000          0.000000                0.000000   \n",
            "25%       5.000000          0.000000                0.000000   \n",
            "50%       5.000000          0.000000                0.000000   \n",
            "75%       5.000000          0.000000                0.000000   \n",
            "max      10.000000          1.000000                1.000000   \n",
            "\n",
            "       Manufacturer_Datsun  Manufacturer_Fiat  ...  Manufacturer_Volkswagen  \\\n",
            "count          4213.000000        4213.000000  ...              4213.000000   \n",
            "mean              0.001662           0.004272  ...                 0.052694   \n",
            "std               0.040733           0.065232  ...                 0.223448   \n",
            "min               0.000000           0.000000  ...                 0.000000   \n",
            "25%               0.000000           0.000000  ...                 0.000000   \n",
            "50%               0.000000           0.000000  ...                 0.000000   \n",
            "75%               0.000000           0.000000  ...                 0.000000   \n",
            "max               1.000000           1.000000  ...                 1.000000   \n",
            "\n",
            "       Manufacturer_Volvo  Fuel_Type_Diesel  Fuel_Type_Electric  \\\n",
            "count         4213.000000       4213.000000         4213.000000   \n",
            "mean             0.003798          0.530738            0.000237   \n",
            "std              0.061516          0.499114            0.015407   \n",
            "min              0.000000          0.000000            0.000000   \n",
            "25%              0.000000          0.000000            0.000000   \n",
            "50%              0.000000          1.000000            0.000000   \n",
            "75%              0.000000          1.000000            0.000000   \n",
            "max              1.000000          1.000000            1.000000   \n",
            "\n",
            "       Fuel_Type_LPG  Fuel_Type_Petrol  Transmission_Manual  \\\n",
            "count    4213.000000       4213.000000          4213.000000   \n",
            "mean        0.001899          0.457869             0.714930   \n",
            "std         0.043540          0.498281             0.451501   \n",
            "min         0.000000          0.000000             0.000000   \n",
            "25%         0.000000          0.000000             0.000000   \n",
            "50%         0.000000          0.000000             1.000000   \n",
            "75%         0.000000          1.000000             1.000000   \n",
            "max         1.000000          1.000000             1.000000   \n",
            "\n",
            "       Owner_Type_Fourth & Above  Owner_Type_Second  Owner_Type_Third  \n",
            "count                4213.000000        4213.000000       4213.000000  \n",
            "mean                    0.001187           0.159506          0.019701  \n",
            "std                     0.034434           0.366191          0.138987  \n",
            "min                     0.000000           0.000000          0.000000  \n",
            "25%                     0.000000           0.000000          0.000000  \n",
            "50%                     0.000000           0.000000          0.000000  \n",
            "75%                     0.000000           0.000000          0.000000  \n",
            "max                     1.000000           1.000000          1.000000  \n",
            "\n",
            "[8 rows x 41 columns]\n"
          ]
        }
      ],
      "source": [
        "print (X_train.describe())"
      ]
    },
    {
      "cell_type": "code",
      "execution_count": 96,
      "metadata": {
        "id": "ZhQCDkh3UyhX"
      },
      "outputs": [
        {
          "name": "stdout",
          "output_type": "stream",
          "text": [
            "[3.237585873571665, 38099.55992157649, 4.574531686107167, 603.0148382496376, 53.07760011531114, 0.8028492898429884, 0.20386288087130994, 0.13898699369894815, 0.04073275109340675, 0.06523224486100476, 0.0217855088198272, 0.22201697285727043, 0.2999406314465928, 0.388842587783414, 0.021785508819827205, 0.01540651000961858, 0.08269036826050655, 0.051036919799895865, 0.01540651000961858, 0.09698716776972995, 0.20858243834264326, 0.40065155153025156, 0.2229725970755848, 0.06340190245387572, 0.06701177208242748, 0.12326396724291902, 0.051036919799895865, 0.14847900992707103, 0.16903610892024823, 0.17035217410857595, 0.2552133057902141, 0.22344849829742064, 0.06151620919010921, 0.4991135076319979, 0.015406510009618582, 0.04353996571673664, 0.498280914438624, 0.4515013743719473, 0.03443364176558333, 0.3661910192172831, 0.13898699369894812]\n"
          ]
        }
      ],
      "source": [
        "arr=[]\n",
        "for i in X_train.std():\n",
        "  arr.append(i)\n",
        "print(arr)\n",
        "# print(X_train.std())"
      ]
    },
    {
      "cell_type": "markdown",
      "metadata": {
        "id": "P-MXMtkg5cux"
      },
      "source": [
        "Finally, as the last step of data processing, I'll scale the data."
      ]
    },
    {
      "cell_type": "code",
      "execution_count": 97,
      "metadata": {
        "id": "4NQAldrv5cux"
      },
      "outputs": [
        {
          "name": "stdout",
          "output_type": "stream",
          "text": [
            "[ 0.12244901  0.30110916  1.14767323 -0.62120433 -0.73483645 -0.34558452\n",
            " -0.21309488 -0.14176337 -0.0407957  -0.06550437 -0.02179327 -0.23416287\n",
            " -0.33320145 -0.47741166 -0.02179327 -0.01540834 -0.08325363 -0.05116445\n",
            " -0.01540834 -0.09790521 -0.21851617  1.99497003 -0.23528859 -0.06365122\n",
            " -0.06730736 -0.12518068 -0.05116445 -0.15188631 -0.1741415  -0.1755832\n",
            " -0.27439664 -0.23584986 -0.0617434   0.94030216 -0.01540834 -0.04361762\n",
            " -0.9190054   0.63145735 -0.03447046 -0.4356339  -0.14176337]\n"
          ]
        }
      ],
      "source": [
        "standardScaler = StandardScaler()\n",
        "standardScaler.fit(X_train)\n",
        "X_train = standardScaler.transform(X_train)\n",
        "X_test = standardScaler.transform(X_test)\n",
        "print(X_test[0])\n"
      ]
    },
    {
      "cell_type": "code",
      "execution_count": 98,
      "metadata": {
        "id": "thlbRU1M5cux"
      },
      "outputs": [
        {
          "data": {
            "text/plain": [
              "(4213,)"
            ]
          },
          "execution_count": 98,
          "metadata": {},
          "output_type": "execute_result"
        }
      ],
      "source": [
        "X_train = np.asarray(X_train).astype(np.float32)\n",
        "y_train = np.asarray(y_train).astype(np.float32)\n",
        "X_test = np.asarray(X_test).astype(np.float32)\n",
        "y_test = np.asarray(y_test).astype(np.float32)\n",
        "np.shape(X_train)\n",
        "np.shape(y_train)"
      ]
    },
    {
      "cell_type": "code",
      "execution_count": 99,
      "metadata": {
        "id": "dmmkHZIX5cu2"
      },
      "outputs": [
        {
          "name": "stdout",
          "output_type": "stream",
          "text": [
            "Epoch 1/20\n",
            "281/281 [==============================] - 3s 9ms/step - loss: 48.1091 - mae: 3.5211 - val_loss: 32.6107 - val_mae: 2.5333\n",
            "Epoch 2/20\n",
            "281/281 [==============================] - 2s 9ms/step - loss: 15.3217 - mae: 2.0729 - val_loss: 30.5089 - val_mae: 2.3483\n",
            "Epoch 3/20\n",
            "281/281 [==============================] - 2s 9ms/step - loss: 13.7924 - mae: 1.9677 - val_loss: 28.0295 - val_mae: 2.0083\n",
            "Epoch 4/20\n",
            "281/281 [==============================] - 2s 9ms/step - loss: 11.8980 - mae: 1.8062 - val_loss: 26.3559 - val_mae: 1.8941\n",
            "Epoch 5/20\n",
            "281/281 [==============================] - 2s 9ms/step - loss: 11.1848 - mae: 1.7399 - val_loss: 27.8779 - val_mae: 1.9432\n",
            "Epoch 6/20\n",
            "281/281 [==============================] - 2s 9ms/step - loss: 10.3865 - mae: 1.7033 - val_loss: 24.1299 - val_mae: 1.8737\n",
            "Epoch 7/20\n",
            "281/281 [==============================] - 2s 9ms/step - loss: 11.5537 - mae: 1.7330 - val_loss: 24.1457 - val_mae: 1.8752\n",
            "Epoch 8/20\n",
            "281/281 [==============================] - 3s 9ms/step - loss: 10.7530 - mae: 1.6845 - val_loss: 25.2485 - val_mae: 1.9095\n",
            "Epoch 9/20\n",
            "281/281 [==============================] - 2s 9ms/step - loss: 8.8702 - mae: 1.5968 - val_loss: 24.7660 - val_mae: 1.8878\n",
            "Epoch 10/20\n",
            "281/281 [==============================] - 2s 8ms/step - loss: 8.8453 - mae: 1.6115 - val_loss: 24.2331 - val_mae: 1.9281\n",
            "Epoch 11/20\n",
            "281/281 [==============================] - 2s 9ms/step - loss: 8.5724 - mae: 1.5876 - val_loss: 24.1138 - val_mae: 1.8439\n",
            "Epoch 12/20\n",
            "281/281 [==============================] - 2s 8ms/step - loss: 8.7342 - mae: 1.5698 - val_loss: 25.1487 - val_mae: 1.9054\n",
            "Epoch 13/20\n",
            "281/281 [==============================] - 2s 8ms/step - loss: 8.4304 - mae: 1.5622 - val_loss: 23.3021 - val_mae: 1.9080\n",
            "Epoch 14/20\n",
            "281/281 [==============================] - 2s 8ms/step - loss: 8.5304 - mae: 1.5373 - val_loss: 24.1922 - val_mae: 2.0170\n",
            "Epoch 15/20\n",
            "281/281 [==============================] - 2s 8ms/step - loss: 8.5945 - mae: 1.5524 - val_loss: 25.5056 - val_mae: 1.7939\n",
            "Epoch 16/20\n",
            "281/281 [==============================] - 2s 8ms/step - loss: 7.7863 - mae: 1.5087 - val_loss: 26.4915 - val_mae: 1.9074\n",
            "Epoch 17/20\n",
            "281/281 [==============================] - 2s 8ms/step - loss: 7.2076 - mae: 1.4637 - val_loss: 25.7022 - val_mae: 1.8740\n",
            "Epoch 18/20\n",
            "281/281 [==============================] - 2s 9ms/step - loss: 6.8048 - mae: 1.4402 - val_loss: 23.4060 - val_mae: 1.8383\n",
            "Epoch 19/20\n",
            "281/281 [==============================] - 2s 9ms/step - loss: 7.1610 - mae: 1.4402 - val_loss: 25.3145 - val_mae: 1.7738\n",
            "Epoch 20/20\n",
            "281/281 [==============================] - 2s 8ms/step - loss: 7.0429 - mae: 1.4170 - val_loss: 23.0193 - val_mae: 1.7231\n",
            "Loss:  13.47598648071289\n",
            "Mean Absolute Error (MAE): 1.6877644062042236\n",
            "1/1 [==============================] - 0s 220ms/step\n",
            "test:  [[4.3558435]]\n",
            "real :  [ 5.75 10.08  7.85 ...  4.25  6.48  5.91]\n",
            "57/57 [==============================] - 0s 3ms/step\n",
            "R-squared score: 0.8904379616577636\n"
          ]
        },
        {
          "data": {
            "image/png": "[encoded data removed]",
            "text/plain": [
              "<Figure size 640x480 with 1 Axes>"
            ]
          },
          "metadata": {},
          "output_type": "display_data"
        }
      ],
      "source": [
        "import tensorflow as tf\n",
        "\n",
        "model = tf.keras.Sequential([\n",
        "    tf.keras.layers.Dense(units=128, activation='relu', input_shape=(41,)), \n",
        "    tf.keras.layers.Dense(units=64, activation='relu'),                   \n",
        "    tf.keras.layers.Dense(units=32, activation='relu'),                    \n",
        "    tf.keras.layers.Dense(units=1, activation='linear')                     \n",
        "])\n",
        "\n",
        "model.compile(optimizer='adam', loss='mse', metrics=['mae'])  \n",
        "\n",
        "model.fit(X_train, y_train, epochs=20, batch_size=12, validation_split=0.2)\n",
        "\n",
        "loss, mae = model.evaluate(X_test, y_test, verbose=0)\n",
        "print(\"Loss: \",loss)\n",
        "print(\"Mean Absolute Error (MAE):\", mae)\n",
        "arr=np.array(X_test[0])\n",
        "\n",
        "expanded_arr = arr.reshape(1,41)\n",
        "print(\"test: \", model.predict(expanded_arr))\n",
        "print(\"real : \",y_test)\n",
        "y_pred = model.predict(X_test)\n",
        "r2 = r2_score(y_test, y_pred)\n",
        "print(\"R-squared score:\", r2)\n",
        "plt.scatter(y_test, y_pred)\n",
        "plt.xlabel(\"Original Label\")\n",
        "plt.ylabel(\"Predicted Label\")\n",
        "plt.title(\"Original Label vs. Predicted Label (Test Data)\")\n",
        "plt.show()\n",
        "model.save('model.h5')"
      ]
    },
    {
      "cell_type": "markdown",
      "metadata": {
        "id": "XDKIC3AbI91w"
      },
      "source": []
    }
  ],
  "metadata": {
    "colab": {
      "provenance": []
    },
    "kernelspec": {
      "display_name": "neural",
      "language": "python",
      "name": "python3"
    },
    "language_info": {
      "codemirror_mode": {
        "name": "ipython",
        "version": 3
      },
      "file_extension": ".py",
      "mimetype": "text/x-python",
      "name": "python",
      "nbconvert_exporter": "python",
      "pygments_lexer": "ipython3",
      "version": "3.7.16"
    }
  },
  "nbformat": 4,
  "nbformat_minor": 0
}
